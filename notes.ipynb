{
 "cells": [
  {
   "cell_type": "code",
   "execution_count": null,
   "metadata": {
    "vscode": {
     "languageId": "plaintext"
    }
   },
   "outputs": [],
   "source": [
    "# running the chapter project1 :\n",
    "\n",
    "cd chapter1\n",
    "cd one-shot-electronics\n",
    "npm install\n",
    "npm run dev or npm start\n",
    "ctrl +c (for stopping)"
   ]
  }
 ],
 "metadata": {
  "language_info": {
   "name": "python"
  }
 },
 "nbformat": 4,
 "nbformat_minor": 2
}
